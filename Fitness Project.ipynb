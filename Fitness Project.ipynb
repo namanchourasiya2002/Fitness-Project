{
  "cells": [
    {
      "cell_type": "code",
      "execution_count": 2,
      "metadata": {
        "colab": {
          "base_uri": "https://localhost:8080/"
        },
        "id": "BBIl0tIwmYqR",
        "outputId": "952f0aef-0313-4d4e-e0a6-91a416208ce8"
      },
      "outputs": [
        {
          "name": "stdout",
          "output_type": "stream",
          "text": [
            "Collecting replicate\n",
            "  Downloading replicate-1.0.7-py3-none-any.whl.metadata (29 kB)\n",
            "Collecting duckduckgo-search\n",
            "  Downloading duckduckgo_search-8.0.5-py3-none-any.whl.metadata (16 kB)\n",
            "Requirement already satisfied: httpx<1,>=0.21.0 in /usr/local/lib/python3.11/dist-packages (from replicate) (0.28.1)\n",
            "Requirement already satisfied: packaging in /usr/local/lib/python3.11/dist-packages (from replicate) (24.2)\n",
            "Requirement already satisfied: pydantic>1.10.7 in /usr/local/lib/python3.11/dist-packages (from replicate) (2.11.7)\n",
            "Requirement already satisfied: typing_extensions>=4.5.0 in /usr/local/lib/python3.11/dist-packages (from replicate) (4.14.0)\n",
            "Requirement already satisfied: click>=8.1.8 in /usr/local/lib/python3.11/dist-packages (from duckduckgo-search) (8.2.1)\n",
            "Collecting primp>=0.15.0 (from duckduckgo-search)\n",
            "  Downloading primp-0.15.0-cp38-abi3-manylinux_2_17_x86_64.manylinux2014_x86_64.whl.metadata (13 kB)\n",
            "Requirement already satisfied: lxml>=5.3.0 in /usr/local/lib/python3.11/dist-packages (from duckduckgo-search) (5.4.0)\n",
            "Requirement already satisfied: anyio in /usr/local/lib/python3.11/dist-packages (from httpx<1,>=0.21.0->replicate) (4.9.0)\n",
            "Requirement already satisfied: certifi in /usr/local/lib/python3.11/dist-packages (from httpx<1,>=0.21.0->replicate) (2025.6.15)\n",
            "Requirement already satisfied: httpcore==1.* in /usr/local/lib/python3.11/dist-packages (from httpx<1,>=0.21.0->replicate) (1.0.9)\n",
            "Requirement already satisfied: idna in /usr/local/lib/python3.11/dist-packages (from httpx<1,>=0.21.0->replicate) (3.10)\n",
            "Requirement already satisfied: h11>=0.16 in /usr/local/lib/python3.11/dist-packages (from httpcore==1.*->httpx<1,>=0.21.0->replicate) (0.16.0)\n",
            "Requirement already satisfied: annotated-types>=0.6.0 in /usr/local/lib/python3.11/dist-packages (from pydantic>1.10.7->replicate) (0.7.0)\n",
            "Requirement already satisfied: pydantic-core==2.33.2 in /usr/local/lib/python3.11/dist-packages (from pydantic>1.10.7->replicate) (2.33.2)\n",
            "Requirement already satisfied: typing-inspection>=0.4.0 in /usr/local/lib/python3.11/dist-packages (from pydantic>1.10.7->replicate) (0.4.1)\n",
            "Requirement already satisfied: sniffio>=1.1 in /usr/local/lib/python3.11/dist-packages (from anyio->httpx<1,>=0.21.0->replicate) (1.3.1)\n",
            "Downloading replicate-1.0.7-py3-none-any.whl (48 kB)\n",
            "\u001b[2K   \u001b[90m━━━━━━━━━━━━━━━━━━━━━━━━━━━━━━━━━━━━━━━━\u001b[0m \u001b[32m48.6/48.6 kB\u001b[0m \u001b[31m4.2 MB/s\u001b[0m eta \u001b[36m0:00:00\u001b[0m\n",
            "\u001b[?25hDownloading duckduckgo_search-8.0.5-py3-none-any.whl (18 kB)\n",
            "Downloading primp-0.15.0-cp38-abi3-manylinux_2_17_x86_64.manylinux2014_x86_64.whl (3.3 MB)\n",
            "\u001b[2K   \u001b[90m━━━━━━━━━━━━━━━━━━━━━━━━━━━━━━━━━━━━━━━━\u001b[0m \u001b[32m3.3/3.3 MB\u001b[0m \u001b[31m59.1 MB/s\u001b[0m eta \u001b[36m0:00:00\u001b[0m\n",
            "\u001b[?25hInstalling collected packages: primp, duckduckgo-search, replicate\n",
            "Successfully installed duckduckgo-search-8.0.5 primp-0.15.0 replicate-1.0.7\n"
          ]
        }
      ],
      "source": [
        "!pip install replicate duckduckgo-search"
      ]
    },
    {
      "cell_type": "code",
      "execution_count": null,
      "metadata": {
        "id": "oPRG5EMyg0LF"
      },
      "outputs": [],
      "source": [
        "import replicate\n",
        "from duckduckgo_search import DDGS\n",
        "\n",
        "# 🔐 IBM Granite on Replicate\n",
        "REPLICATE_API_TOKEN = \"Paste your Replicate Token\"\n",
        "client = replicate.Client(api_token=REPLICATE_API_TOKEN)\n",
        "\n",
        "# 🔎 Optional: search tool\n",
        "def search_duckduckgo(query):\n",
        "    with DDGS() as ddgs:\n",
        "        results = ddgs.text(query, max_results=3)\n",
        "        return \"\\n\".join([f\"- {r['title']}: {r['href']}\" for r in results])\n",
        "\n",
        "# 🧠 LLM query function\n",
        "def query_replicate(prompt, model=\"ibm-granite/granite-3.3-8b-instruct\"):\n",
        "    output = client.run(model, input={\"prompt\": prompt, \"max_new_tokens\": 300})\n",
        "    return \"\".join(output)\n",
        "\n",
        "# 🤖 Agent 1: Workout Recommender\n",
        "def workout_agent(prompt):\n",
        "    system_prompt = \"You are a personal workout coach. Recommend home-based fitness routines based on user goals and preferences.\"\n",
        "    return query_replicate(f\"{system_prompt}\\n\\nUser: {prompt}\")\n",
        "\n",
        "# 🍎 Agent 2: Nutrition Coach\n",
        "def nutrition_agent(prompt):\n",
        "    system_prompt = \"You are a friendly nutritionist. Suggest healthy, affordable meal ideas based on user input. Be simple and practical.\"\n",
        "    return query_replicate(f\"{system_prompt}\\n\\nUser: {prompt}\")\n",
        "\n",
        "# 💡 Agent 3: Motivational Buddy\n",
        "def motivation_agent(prompt):\n",
        "    system_prompt = \"You are a motivational fitness buddy. Share tips, inspiration, and strategies to stay consistent with healthy habits.\"\n",
        "    return query_replicate(f\"{system_prompt}\\n\\nUser: {prompt}\")\n"
      ]
    },
    {
      "cell_type": "code",
      "execution_count": 4,
      "metadata": {
        "id": "SVOjDNd7mNHy"
      },
      "outputs": [],
      "source": [
        "def fitness_buddy_router(user_prompt):\n",
        "    workout_keywords = [\"workout\", \"exercise\", \"routine\", \"stretch\", \"home gym\"]\n",
        "    nutrition_keywords = [\"diet\", \"meal\", \"protein\", \"food\", \"nutrition\", \"eat\"]\n",
        "    motivation_keywords = [\"motivation\", \"lazy\", \"can't\", \"habit\", \"inspiration\", \"routine\", \"mental\"]\n",
        "\n",
        "    prompt_lower = user_prompt.lower()\n",
        "\n",
        "    if any(word in prompt_lower for word in workout_keywords):\n",
        "        return workout_agent(user_prompt)\n",
        "    elif any(word in prompt_lower for word in nutrition_keywords):\n",
        "        return nutrition_agent(user_prompt)\n",
        "    elif any(word in prompt_lower for word in motivation_keywords):\n",
        "        return motivation_agent(user_prompt)\n",
        "    else:\n",
        "        # default fallback agent\n",
        "        return \"🤖 Please clarify: are you asking about workouts, meals, or motivation?\"\n"
      ]
    },
    {
      "cell_type": "code",
      "execution_count": 5,
      "metadata": {
        "colab": {
          "base_uri": "https://localhost:8080/",
          "height": 645
        },
        "id": "1qc71dgUmOIb",
        "outputId": "94cd6e14-ca4e-46e2-f57f-b562b0730346"
      },
      "outputs": [
        {
          "name": "stdout",
          "output_type": "stream",
          "text": [
            "It looks like you are running Gradio on a hosted a Jupyter notebook. For the Gradio app to work, sharing must be enabled. Automatically setting `share=True` (you can turn this off by setting `share=False` in `launch()` explicitly).\n",
            "\n",
            "Colab notebook detected. To show errors in colab notebook, set debug=True in launch()\n",
            "* Running on public URL: https://109d8d22a16bfd39ae.gradio.live\n",
            "\n",
            "This share link expires in 1 week. For free permanent hosting and GPU upgrades, run `gradio deploy` from the terminal in the working directory to deploy to Hugging Face Spaces (https://huggingface.co/spaces)\n"
          ]
        },
        {
          "data": {
            "text/html": [
              "<div><iframe src=\"https://109d8d22a16bfd39ae.gradio.live\" width=\"100%\" height=\"500\" allow=\"autoplay; camera; microphone; clipboard-read; clipboard-write;\" frameborder=\"0\" allowfullscreen></iframe></div>"
            ],
            "text/plain": [
              "<IPython.core.display.HTML object>"
            ]
          },
          "metadata": {},
          "output_type": "display_data"
        },
        {
          "data": {
            "text/plain": []
          },
          "execution_count": 5,
          "metadata": {},
          "output_type": "execute_result"
        }
      ],
      "source": [
        "import gradio as gr\n",
        "\n",
        "gr.Interface(\n",
        "    fn=fitness_buddy_router,\n",
        "    inputs=gr.Textbox(lines=2, placeholder=\"Ask about fitness, meals, or motivation...\"),\n",
        "    outputs=gr.Textbox(label=\"Fitness Buddy Says\"),\n",
        "    title=\"💪 Fitness Buddy AI\",\n",
        "    description=\"Your personal AI coach for workouts, nutrition, and motivation!\"\n",
        ").launch()\n"
      ]
    },
    {
      "cell_type": "code",
      "execution_count": null,
      "metadata": {
        "id": "TMc4uz1bmQI1"
      },
      "outputs": [],
      "source": []
    }
  ],
  "metadata": {
    "colab": {
      "provenance": []
    },
    "kernelspec": {
      "display_name": "Python 3",
      "name": "python3"
    },
    "language_info": {
      "name": "python"
    }
  },
  "nbformat": 4,
  "nbformat_minor": 0
}
